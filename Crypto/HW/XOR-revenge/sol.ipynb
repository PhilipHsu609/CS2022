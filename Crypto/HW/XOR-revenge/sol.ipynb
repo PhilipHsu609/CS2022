{
 "cells": [
  {
   "cell_type": "code",
   "execution_count": 1,
   "id": "6c58112d",
   "metadata": {},
   "outputs": [],
   "source": [
    "ct = [1, 0, 1, 0, 0, 1, 1, 1, 1, 1, 0, 0, 1, 0, 1, 1, 1, 0, 1, 1, 0, 0, 0, 1, 0, 1, 1, 0, 0, 1, 0, 0, 0, 1, 1, 0, 0, 0, 1, 0, 1, 1, 1, 1, 0, 0, 1, 0, 0, 1, 0, 0, 1, 0, 1, 1, 1, 0, 0, 0, 0, 0, 1, 1, 0, 0, 0, 1, 0, 1, 0, 0, 1, 1, 0, 1, 1, 1, 1, 1, 1, 0, 1, 1, 1, 1, 0, 0, 1, 1, 0, 1, 1, 1, 0, 0, 1, 0, 0, 1, 1, 0, 0, 1, 1, 0, 0, 1, 0, 1, 0, 0, 0, 1, 0, 0, 0, 1, 0, 0, 0, 1, 1, 1, 0, 1, 1, 1, 0, 1, 0, 0, 1, 1, 1, 1, 0, 1, 1, 0, 1, 0, 1, 0, 0, 1, 0, 0, 0, 1, 0, 0, 0, 0, 0, 0, 0, 0, 0, 1, 0, 1, 1, 0, 0, 1, 1, 1, 0, 0, 1, 0, 0, 0, 1, 0, 0, 1, 1, 1, 1, 1, 0, 1, 0, 1, 1, 1, 1, 0, 1, 1, 0, 0, 0, 1, 0, 1, 1, 0, 1, 1, 0, 0, 0, 0, 0, 0, 0, 1, 0, 1, 1, 0, 0, 0, 0, 0, 0, 0, 1, 1, 1, 0, 1, 1, 0, 0, 0, 0, 1, 1, 1, 1, 1, 0, 1, 0, 0, 1, 0, 1, 0, 1, 0, 1, 0, 0, 0, 1, 1, 1, 0, 0, 0, 0, 0, 0, 0, 0, 1, 1, 0, 0, 1, 0, 0, 0, 0, 1, 0, 0, 1, 0, 1, 0, 1, 1, 0, 0, 0, 1, 0, 0, 0, 0, 0, 1, 0, 1, 1, 0, 0, 1, 1, 0, 0, 1, 0, 0, 1, 0, 1, 0, 0, 1, 0, 0, 0, 1, 1, 1, 1, 1, 1, 0, 0, 0, 0, 1, 1, 1, 1, 1, 1, 0, 1, 0, 0, 0, 1, 0, 0, 1, 1, 0, 1, 1, 0, 0, 0, 0, 0, 1, 1, 1, 1, 0, 0, 0, 1, 0, 0, 0, 0, 1, 1, 1, 0, 0, 0, 1, 0, 1, 1, 0, 0, 1, 0, 1, 0, 0, 1, 1, 1, 0, 0, 0, 0, 1, 0, 0, 1, 0, 1, 1, 0, 1, 0, 1, 0, 1, 1, 0, 0, 0, 0, 1, 0, 0, 0, 1, 1, 1, 1, 0]\n",
    "flag = ct[:-70]\n",
    "extra = ct[-70:]"
   ]
  },
  {
   "cell_type": "code",
   "execution_count": 2,
   "id": "d2337226",
   "metadata": {},
   "outputs": [
    {
     "name": "stdout",
     "output_type": "stream",
     "text": [
      "poly = 1 + x ** 31 + x ** 34 + x ** 38 + x ** 39 + x ** 40 + x ** 41 + x ** 42 + x ** 43 + x ** 44 + x ** 46 + x ** 51 + x ** 52 + x ** 53 + x ** 54 + x ** 57 + x ** 59 + x ** 60 + x ** 62 + x ** 63 + x ** 64 \n"
     ]
    }
   ],
   "source": [
    "x = 0x1da785fc480000001\n",
    "p = \"poly = 1 + \"\n",
    "for i in range(2, 65):\n",
    "    if x & (1 << i):\n",
    "        p += f\"x ** {i} + \"\n",
    "print(p[:-2])"
   ]
  },
  {
   "cell_type": "code",
   "execution_count": 3,
   "id": "a4642816",
   "metadata": {},
   "outputs": [],
   "source": [
    "P = PolynomialRing(GF(2), \"x\")\n",
    "x = P.gen()\n",
    "poly = 1 + x ** 31 + x ** 34 + x ** 38 + x ** 39 + x ** 40 + x ** 41 + x ** 42 + x ** 43 + x ** 44 + x ** 46 + x ** 51 + x ** 52 + x ** 53 + x ** 54 + x ** 57 + x ** 59 + x ** 60 + x ** 62 + x ** 63 + x ** 64\n",
    "M = companion_matrix(poly, \"left\")"
   ]
  },
  {
   "cell_type": "code",
   "execution_count": 4,
   "id": "dd69b3c0",
   "metadata": {},
   "outputs": [],
   "source": [
    "eqs = list()\n",
    "M37 = M ** 37\n",
    "for i in range(64):\n",
    "    m = M37 ** (i + 1)\n",
    "    eqs.append(list(vector(m[0, :])))"
   ]
  },
  {
   "cell_type": "code",
   "execution_count": 5,
   "id": "2729485f",
   "metadata": {},
   "outputs": [
    {
     "name": "stdout",
     "output_type": "stream",
     "text": [
      "0x91717dd2a3374126\n"
     ]
    }
   ],
   "source": [
    "A = matrix(GF(2), eqs)\n",
    "y = vector(GF(2), extra[:64])\n",
    "sol = A.solve_right(y)\n",
    "print(hex(ZZ(list(sol[::-1]), 2)))"
   ]
  },
  {
   "cell_type": "code",
   "execution_count": 6,
   "id": "51a66baf",
   "metadata": {},
   "outputs": [
    {
     "name": "stdout",
     "output_type": "stream",
     "text": [
      "1100000111100010000111000101100101001110000100101101010110000100011110\n",
      "1100000111100010000111000101100101001110000100101101010110000100011110\n"
     ]
    }
   ],
   "source": [
    "state = 0x91717dd2a3374126\n",
    "s = list(map(int, \"{:064b}\".format(state)))\n",
    "\n",
    "out = list()\n",
    "\n",
    "for _ in range(70):\n",
    "    s = M37 * vector(s)\n",
    "    out.append(s[0])\n",
    "\n",
    "print(\"\".join([str(b) for b in out]))\n",
    "print(\"\".join([str(b) for b in extra]))"
   ]
  },
  {
   "cell_type": "code",
   "execution_count": 7,
   "id": "b5413bbe",
   "metadata": {},
   "outputs": [
    {
     "name": "stdout",
     "output_type": "stream",
     "text": [
      "FLAG{Y0u_c4N_nO7_Bru73_f0RCe_tH15_TiM3!!!}\n"
     ]
    }
   ],
   "source": [
    "s = list(map(int, \"{:064b}\".format(state)))\n",
    "\n",
    "for i in reversed(range(len(flag))):\n",
    "    flag[i] ^^= int(s[0])\n",
    "    s = (~M37) * vector(s)\n",
    "\n",
    "flag = \"\".join([str(b) for b in flag])\n",
    "pt = str()\n",
    "for i in range(len(flag) // 8):\n",
    "    pt += chr(int(flag[i * 8: (i + 1) * 8], 2))\n",
    "    \n",
    "print(pt)"
   ]
  }
 ],
 "metadata": {
  "kernelspec": {
   "display_name": "Python 3.8.0 ('py38')",
   "language": "python",
   "name": "python3"
  },
  "language_info": {
   "codemirror_mode": {
    "name": "ipython",
    "version": 3
   },
   "file_extension": ".py",
   "mimetype": "text/x-python",
   "name": "python",
   "nbconvert_exporter": "python",
   "pygments_lexer": "ipython3",
   "version": "3.8.0"
  },
  "vscode": {
   "interpreter": {
    "hash": "96646e5758869c3a5c63f98af25cbf7645ddae18d00b11100c7024c415409a3c"
   }
  }
 },
 "nbformat": 4,
 "nbformat_minor": 5
}
